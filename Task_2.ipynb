{
 "cells": [
  {
   "cell_type": "code",
   "execution_count": 2,
   "id": "c1412333-231c-44c1-92ac-8c0fc7f98e19",
   "metadata": {},
   "outputs": [],
   "source": [
    "import os\n",
    "import numpy as np\n",
    "import tensorflow as tf\n",
    "from tensorflow.keras.preprocessing.image import ImageDataGenerator\n",
    "import matplotlib.pyplot as plt"
   ]
  },
  {
   "cell_type": "code",
   "execution_count": 3,
   "id": "0c3b5c2e-da94-4cf0-baea-f1c699d231f0",
   "metadata": {},
   "outputs": [
    {
     "name": "stdout",
     "output_type": "stream",
     "text": [
      "data loading completed\n"
     ]
    }
   ],
   "source": [
    "#Load and Explore the Dataset\n",
    "\n",
    "from tensorflow.keras.utils import load_img, img_to_array\n",
    "\n",
    "def load_images(base_path):\n",
    "    categories = ['CXR', 'AbdomenCT', 'HeadCT', 'ChestCT', 'Hand']\n",
    "    data = []\n",
    "    labels = []\n",
    "    img_size = (128, 128)  # Resize all images to a fixed size\n",
    "    \n",
    "    for i, category in enumerate(categories):\n",
    "        folder_path = os.path.join(base_path, category)\n",
    "        for file_name in os.listdir(folder_path):\n",
    "            file_path = os.path.join(folder_path, file_name)\n",
    "            img = load_img(file_path, target_size=img_size)  # Load image\n",
    "            img_array = img_to_array(img) / 255.0  # Normalize pixel values to [0, 1]\n",
    "            data.append(img_array)\n",
    "            labels.append(i)  # Assign numerical label\n",
    "            \n",
    "    return np.array(data), np.array(labels)\n",
    "\n",
    "# Path to the dataset\n",
    "dataset_path = \"C:\\\\Users\\\\sahaa\\\\Downloads\\\\CNN_dataset\"\n",
    "data, labels = load_images(dataset_path)\n",
    "\n",
    "print(\"data loading completed\")"
   ]
  },
  {
   "cell_type": "code",
   "execution_count": 5,
   "id": "3d67a5c2-4c22-4da2-be3d-fab253a37015",
   "metadata": {},
   "outputs": [
    {
     "name": "stdout",
     "output_type": "stream",
     "text": [
      "Training set size: 35000, Validation set size: 7500, Test set size: 7500\n"
     ]
    }
   ],
   "source": [
    "from sklearn.model_selection import train_test_split\n",
    "\n",
    "# Split data into training, validation, and test sets\n",
    "X_train, X_temp, y_train, y_temp = train_test_split(data, labels, test_size=0.3, stratify=labels, random_state=42)\n",
    "X_val, X_test, y_val, y_test = train_test_split(X_temp, y_temp, test_size=0.5, stratify=y_temp, random_state=42)\n",
    "\n",
    "print(f\"Training set size: {len(X_train)}, Validation set size: {len(X_val)}, Test set size: {len(X_test)}\")\n"
   ]
  },
  {
   "cell_type": "code",
   "execution_count": 6,
   "id": "75a99c93-f0e1-487e-8ae4-fa75b0e10701",
   "metadata": {},
   "outputs": [
    {
     "name": "stdout",
     "output_type": "stream",
     "text": [
      "Data normalized.\n"
     ]
    }
   ],
   "source": [
    "# Data normalization\n",
    "from sklearn.preprocessing import StandardScaler\n",
    "\n",
    "# Normalize the data \n",
    "scaler = StandardScaler()\n",
    "\n",
    "# Flatten the data temporarily for normalization\n",
    "X_train_flat = X_train.reshape(X_train.shape[0], -1)\n",
    "X_val_flat = X_val.reshape(X_val.shape[0], -1)\n",
    "X_test_flat = X_test.reshape(X_test.shape[0], -1)\n",
    "\n",
    "X_train_flat = scaler.fit_transform(X_train_flat)\n",
    "X_val_flat = scaler.transform(X_val_flat)\n",
    "X_test_flat = scaler.transform(X_test_flat)\n",
    "\n",
    "# Reshape back to original dimensions\n",
    "X_train = X_train_flat.reshape(X_train.shape)\n",
    "X_val = X_val_flat.reshape(X_val.shape)\n",
    "X_test = X_test_flat.reshape(X_test.shape)\n",
    "\n",
    "print(\"Data normalized.\")\n"
   ]
  },
  {
   "cell_type": "code",
   "execution_count": 8,
   "id": "26fa9804-5d50-4b92-b14a-3a0f71d48e82",
   "metadata": {},
   "outputs": [
    {
     "name": "stdout",
     "output_type": "stream",
     "text": [
      "CNN model built.\n"
     ]
    }
   ],
   "source": [
    "import tensorflow as tf\n",
    "from tensorflow.keras.models import Sequential\n",
    "from tensorflow.keras.layers import Conv2D, MaxPooling2D, Flatten, Dense, Dropout\n",
    "\n",
    "# Define the CNN model\n",
    "model = Sequential([\n",
    "    Conv2D(32, (3, 3), activation='relu', input_shape=(128, 128, 3)),\n",
    "    MaxPooling2D((2, 2)),\n",
    "    Conv2D(64, (3, 3), activation='relu'),\n",
    "    MaxPooling2D((2, 2)),\n",
    "    Conv2D(128, (3, 3), activation='relu'),\n",
    "    MaxPooling2D((2, 2)),\n",
    "    Flatten(),\n",
    "    Dense(128, activation='relu'),\n",
    "    Dropout(0.5),\n",
    "    Dense(len(np.unique(labels)), activation='softmax')  # Output layer based on the number of classes\n",
    "])\n",
    "\n",
    "model.compile(optimizer='adam', loss='sparse_categorical_crossentropy', metrics=['accuracy'])\n",
    "print(\"CNN model built.\")"
   ]
  },
  {
   "cell_type": "code",
   "execution_count": 10,
   "id": "9edf662f-9859-4651-a866-ddfa01cc190f",
   "metadata": {},
   "outputs": [
    {
     "name": "stdout",
     "output_type": "stream",
     "text": [
      "Epoch 1/10\n",
      "\u001b[1m1094/1094\u001b[0m \u001b[32m━━━━━━━━━━━━━━━━━━━━\u001b[0m\u001b[37m\u001b[0m \u001b[1m242s\u001b[0m 220ms/step - accuracy: 0.9893 - loss: 0.0384 - val_accuracy: 0.9965 - val_loss: 0.0128\n",
      "Epoch 2/10\n",
      "\u001b[1m1094/1094\u001b[0m \u001b[32m━━━━━━━━━━━━━━━━━━━━\u001b[0m\u001b[37m\u001b[0m \u001b[1m211s\u001b[0m 192ms/step - accuracy: 0.9971 - loss: 0.0106 - val_accuracy: 0.9987 - val_loss: 0.0042\n",
      "Epoch 3/10\n",
      "\u001b[1m1094/1094\u001b[0m \u001b[32m━━━━━━━━━━━━━━━━━━━━\u001b[0m\u001b[37m\u001b[0m \u001b[1m211s\u001b[0m 193ms/step - accuracy: 0.9965 - loss: 0.0124 - val_accuracy: 0.9977 - val_loss: 0.0091\n",
      "Epoch 4/10\n",
      "\u001b[1m1094/1094\u001b[0m \u001b[32m━━━━━━━━━━━━━━━━━━━━\u001b[0m\u001b[37m\u001b[0m \u001b[1m221s\u001b[0m 202ms/step - accuracy: 0.9978 - loss: 0.0084 - val_accuracy: 0.9991 - val_loss: 0.0042\n",
      "Epoch 5/10\n",
      "\u001b[1m1094/1094\u001b[0m \u001b[32m━━━━━━━━━━━━━━━━━━━━\u001b[0m\u001b[37m\u001b[0m \u001b[1m210s\u001b[0m 192ms/step - accuracy: 0.9975 - loss: 0.0078 - val_accuracy: 0.9984 - val_loss: 0.0118\n",
      "Epoch 6/10\n",
      "\u001b[1m1094/1094\u001b[0m \u001b[32m━━━━━━━━━━━━━━━━━━━━\u001b[0m\u001b[37m\u001b[0m \u001b[1m210s\u001b[0m 192ms/step - accuracy: 0.9984 - loss: 0.0065 - val_accuracy: 0.9991 - val_loss: 0.0061\n",
      "Epoch 7/10\n",
      "\u001b[1m1094/1094\u001b[0m \u001b[32m━━━━━━━━━━━━━━━━━━━━\u001b[0m\u001b[37m\u001b[0m \u001b[1m213s\u001b[0m 195ms/step - accuracy: 0.9981 - loss: 0.0083 - val_accuracy: 0.9989 - val_loss: 0.0093\n",
      "Epoch 8/10\n",
      "\u001b[1m1094/1094\u001b[0m \u001b[32m━━━━━━━━━━━━━━━━━━━━\u001b[0m\u001b[37m\u001b[0m \u001b[1m212s\u001b[0m 194ms/step - accuracy: 0.9987 - loss: 0.0079 - val_accuracy: 0.9993 - val_loss: 0.0060\n",
      "Epoch 9/10\n",
      "\u001b[1m1094/1094\u001b[0m \u001b[32m━━━━━━━━━━━━━━━━━━━━\u001b[0m\u001b[37m\u001b[0m \u001b[1m2959s\u001b[0m 3s/step - accuracy: 0.9989 - loss: 0.0071 - val_accuracy: 0.9989 - val_loss: 0.0110\n",
      "Epoch 10/10\n",
      "\u001b[1m1094/1094\u001b[0m \u001b[32m━━━━━━━━━━━━━━━━━━━━\u001b[0m\u001b[37m\u001b[0m \u001b[1m290s\u001b[0m 265ms/step - accuracy: 0.9996 - loss: 0.0016 - val_accuracy: 0.9992 - val_loss: 0.0088\n",
      "Model training complete.\n"
     ]
    }
   ],
   "source": [
    "# Train the CNN model\n",
    "history = model.fit(\n",
    "    X_train, y_train,\n",
    "    validation_data=(X_val, y_val),\n",
    "    epochs=10,  # You can adjust based on performance\n",
    "    batch_size=32,\n",
    "    shuffle=True\n",
    ")\n",
    "\n",
    "print(\"Model training complete.\")"
   ]
  },
  {
   "cell_type": "code",
   "execution_count": 11,
   "id": "91f5d16f-f5a7-4f8b-9385-95dffe91b22b",
   "metadata": {},
   "outputs": [
    {
     "name": "stdout",
     "output_type": "stream",
     "text": [
      "\u001b[1m235/235\u001b[0m \u001b[32m━━━━━━━━━━━━━━━━━━━━\u001b[0m\u001b[37m\u001b[0m \u001b[1m20s\u001b[0m 83ms/step - accuracy: 0.9978 - loss: 0.0112\n",
      "Test Loss: 0.0084\n",
      "Test Accuracy: 99.84%\n"
     ]
    }
   ],
   "source": [
    "# Evaluate the model on the test set\n",
    "test_loss, test_accuracy = model.evaluate(X_test, y_test)\n",
    "print(f\"Test Loss: {test_loss:.4f}\")\n",
    "print(f\"Test Accuracy: {test_accuracy * 100:.2f}%\")"
   ]
  },
  {
   "cell_type": "code",
   "execution_count": 13,
   "id": "d0463235-6b84-47fb-b732-cb000237358a",
   "metadata": {},
   "outputs": [
    {
     "name": "stdout",
     "output_type": "stream",
     "text": [
      "\u001b[1m1/1\u001b[0m \u001b[32m━━━━━━━━━━━━━━━━━━━━\u001b[0m\u001b[37m\u001b[0m \u001b[1m0s\u001b[0m 79ms/step\n"
     ]
    },
    {
     "data": {
      "image/png": "[encoded data removed]",
      "text/plain": [
       "<Figure size 640x480 with 1 Axes>"
      ]
     },
     "metadata": {},
     "output_type": "display_data"
    },
    {
     "name": "stdout",
     "output_type": "stream",
     "text": [
      "Predicted Class: CXR\n"
     ]
    }
   ],
   "source": [
    "# Load a single image for prediction\n",
    "from tensorflow.keras.preprocessing.image import load_img, img_to_array\n",
    "import matplotlib.pyplot as plt\n",
    "import numpy as np  # Make sure numpy is imported\n",
    "\n",
    "test_image_path = r\"C:\\Users\\sahaa\\Downloads\\CNN_dataset\\Test Images\\cxr_test.jpeg\"\n",
    "test_image = load_img(test_image_path, target_size=(128, 128))\n",
    "test_image_array = img_to_array(test_image) / 255.0  # Normalize image\n",
    "test_image_array = np.expand_dims(test_image_array, axis=0)  # Add batch dimension\n",
    "\n",
    "# Predict the class\n",
    "predicted_label = model.predict(test_image_array).argmax()\n",
    "\n",
    "# Map the label to class name\n",
    "class_map = {0: 'CXR', 1: 'AbdomenCT', 2: 'HeadCT', 3: 'ChestCT', 4: 'Hand'}  # Adjust as per your dataset\n",
    "predicted_class = class_map[predicted_label]\n",
    "\n",
    "# Display the prediction with a colorful representation\n",
    "plt.imshow(load_img(test_image_path, color_mode=\"grayscale\"), cmap='viridis')  # Apply a colormap like 'viridis'\n",
    "plt.title(f\"Predicted: {predicted_class}\")\n",
    "plt.axis(\"off\")\n",
    "plt.show()\n",
    "\n",
    "print(f\"Predicted Class: {predicted_class}\")"
   ]
  },
  {
   "cell_type": "code",
   "execution_count": null,
   "id": "a16efd65-8378-46e1-9220-238bc8733802",
   "metadata": {},
   "outputs": [],
   "source": []
  }
 ],
 "metadata": {
  "kernelspec": {
   "display_name": "Python 3 (ipykernel)",
   "language": "python",
   "name": "python3"
  },
  "language_info": {
   "codemirror_mode": {
    "name": "ipython",
    "version": 3
   },
   "file_extension": ".py",
   "mimetype": "text/x-python",
   "name": "python",
   "nbconvert_exporter": "python",
   "pygments_lexer": "ipython3",
   "version": "3.12.4"
  }
 },
 "nbformat": 4,
 "nbformat_minor": 5
}
